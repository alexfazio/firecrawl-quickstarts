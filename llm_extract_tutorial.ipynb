{
  "cells": [
    {
      "cell_type": "markdown",
      "metadata": {
        "id": "view-in-github",
        "colab_type": "text"
      },
      "source": [
        "<a href=\"https://colab.research.google.com/github/alexfazio/firecrawl-quickstart/blob/main/llm_extract_tutorial.ipynb\" target=\"_parent\"><img src=\"https://colab.research.google.com/assets/colab-badge.svg\" alt=\"Open In Colab\"/></a>"
      ]
    },
    {
      "cell_type": "markdown",
      "metadata": {
        "id": "intro-section"
      },
      "source": [
        "# Firecrawl LLM Extract Tutorial\n",
        "\n",
        "By Alex Fazio (https://twitter.com/alxfazio)\n",
        "\n",
        "Github repo: https://github.com/alexfazio/firecrawl-cookbook\n",
        "\n",
        "This Jupyter notebook demonstrates how to use Firecrawl's LLM Extract feature to extract structured data from web pages. By the end of this tutorial, you'll be able to:\n",
        "\n",
        "1. Set up the Firecrawl environment\n",
        "2. Extract data using a schema\n",
        "3. Extract data using prompts without a schema\n",
        "\n",
        "This cookbook is designed for developers who want to efficiently extract structured data from web pages using LLMs."
      ]
    },
    {
      "cell_type": "markdown",
      "metadata": {
        "id": "requirements-section"
      },
      "source": [
        "## Requirements\n",
        "\n",
        "Before proceeding, ensure you have:\n",
        "\n",
        "- **Firecrawl API key**: Required for accessing the Firecrawl service\n",
        "- Python environment with required packages\n",
        "\n",
        "We'll be using the following packages:\n",
        "- `firecrawl`: For interacting with the Firecrawl API\n",
        "- `pydantic`: For schema definition"
      ]
    },
    {
      "cell_type": "markdown",
      "metadata": {
        "id": "setup-section"
      },
      "source": [
        "## Setup\n",
        "\n",
        "First, let's install the required packages:"
      ]
    },
    {
      "cell_type": "code",
      "execution_count": 1,
      "metadata": {
        "colab": {
          "base_uri": "https://localhost:8080/"
        },
        "id": "ytS0D_edJQIH",
        "outputId": "2cf0e258-8ae4-4718-b883-bdd4c5b35230"
      },
      "outputs": [
        {
          "output_type": "stream",
          "name": "stdout",
          "text": [
            "\u001b[?25l   \u001b[90m━━━━━━━━━━━━━━━━━━━━━━━━━━━━━━━━━━━━━━━━\u001b[0m \u001b[32m0.0/164.1 kB\u001b[0m \u001b[31m?\u001b[0m eta \u001b[36m-:--:--\u001b[0m\r\u001b[2K   \u001b[90m━━━━━━━━━━━━━━━━━━━━━━━━━━━━━━━━━━━━━━━━\u001b[0m \u001b[32m164.1/164.1 kB\u001b[0m \u001b[31m6.1 MB/s\u001b[0m eta \u001b[36m0:00:00\u001b[0m\n",
            "\u001b[?25h"
          ]
        }
      ],
      "source": [
        "%pip install firecrawl-py pydantic --quiet"
      ]
    },
    {
      "cell_type": "markdown",
      "metadata": {
        "id": "api-key-section"
      },
      "source": [
        "Next, let's set up our Firecrawl API key:"
      ]
    },
    {
      "cell_type": "code",
      "execution_count": 2,
      "metadata": {
        "colab": {
          "base_uri": "https://localhost:8080/"
        },
        "id": "5S7s7PEmJQII",
        "outputId": "c42bd26a-3f6b-47c5-9391-3d3dc306d033"
      },
      "outputs": [
        {
          "name": "stdout",
          "output_type": "stream",
          "text": [
            "Enter your Firecrawl API key: ··········\n"
          ]
        }
      ],
      "source": [
        "from getpass import getpass\n",
        "api_key = getpass(\"Enter your Firecrawl API key: \")"
      ]
    },
    {
      "cell_type": "markdown",
      "metadata": {
        "id": "schema-extraction-section"
      },
      "source": [
        "## Extracting Data with Schema\n",
        "\n",
        "Let's start by importing the required libraries and defining our schema for extraction:"
      ]
    },
    {
      "cell_type": "code",
      "execution_count": 3,
      "metadata": {
        "colab": {
          "base_uri": "https://localhost:8080/"
        },
        "id": "KgQoSEgdJQII",
        "outputId": "452e9c86-3c14-4c28-ef9a-e4ccedc17a4b"
      },
      "outputs": [
        {
          "output_type": "stream",
          "name": "stdout",
          "text": [
            "{'company_mission': \"Train a secure AI on your technical resources that answers customer and employee questions so your team doesn't have to\", 'supports_sso': True, 'is_open_source': False, 'is_in_yc': True}\n"
          ]
        }
      ],
      "source": [
        "from firecrawl import FirecrawlApp\n",
        "from pydantic import BaseModel, Field\n",
        "\n",
        "# Initialize the FirecrawlApp with your API key\n",
        "app = FirecrawlApp(api_key=api_key)\n",
        "\n",
        "class ExtractSchema(BaseModel):\n",
        "    company_mission: str\n",
        "    supports_sso: bool\n",
        "    is_open_source: bool\n",
        "    is_in_yc: bool\n",
        "\n",
        "data = app.scrape_url('https://docs.firecrawl.dev/', {\n",
        "    'formats': ['extract'],\n",
        "    'extract': {\n",
        "        'schema': ExtractSchema.model_json_schema(),\n",
        "    }\n",
        "})\n",
        "\n",
        "print(data['extract'])"
      ]
    },
    {
      "cell_type": "markdown",
      "metadata": {
        "id": "prompt-extraction-section"
      },
      "source": [
        "## Extracting Data without Schema\n",
        "\n",
        "Firecrawl also supports extraction using just a prompt, allowing the LLM to determine the structure:"
      ]
    },
    {
      "cell_type": "code",
      "execution_count": 7,
      "metadata": {
        "colab": {
          "base_uri": "https://localhost:8080/"
        },
        "id": "JU57r_bfJQIJ",
        "outputId": "49cc9378-6854-4565-dfd6-00cd9e2177c7"
      },
      "outputs": [
        {
          "output_type": "stream",
          "name": "stdout",
          "text": [
            "{\"success\":true,\"data\":{\"extract\":{\"company_mission\":\"Train a secure AI on your technical resources that answers customer and employee questions so your team doesn't have to\"},\"metadata\":{\"title\":\"Quickstart | Firecrawl\",\"description\":\"Firecrawl allows you to turn entire websites into LLM-ready markdown\",\"language\":\"en\",\"ogLocaleAlternate\":[],\"viewport\":\"width=device-width\",\"msapplication-config\":\"https://mintlify.s3-us-west-1.amazonaws.com/firecrawl/_generated/favicon/browserconfig.xml?v=3\",\"apple-mobile-web-app-title\":\"Firecrawl Docs\",\"application-name\":\"Firecrawl Docs\",\"msapplication-TileColor\":\"#000\",\"theme-color\":\"#ffffff\",\"charset\":\"utf-8\",\"og:type\":\"website\",\"og:site_name\":\"Firecrawl Docs\",\"twitter:card\":\"summary_large_image\",\"og:title\":\"Quickstart | Firecrawl\",\"twitter:title\":\"Firecrawl Docs\",\"og:image\":\"/images/og.png\",\"twitter:image\":\"/images/og.png\",\"og:description\":\"Firecrawl allows you to turn entire websites into LLM-ready markdown\",\"og:url\":\"https://docs.firecrawl.dev/introduction\",\"next-head-count\":\"25\",\"sourceURL\":\"https://docs.firecrawl.dev/\",\"statusCode\":200}}}"
          ]
        }
      ],
      "source": [
        "# Method 1: Using curl with a properly formatted command string\n",
        "curl_command = f'''\n",
        "curl -X POST https://api.firecrawl.dev/v1/scrape \\\n",
        "  -H 'Content-Type: application/json' \\\n",
        "  -H 'Authorization: Bearer {api_key}' \\\n",
        "  -d '{{\n",
        "    \"url\": \"https://docs.firecrawl.dev/\",\n",
        "    \"formats\": [\"extract\"],\n",
        "    \"extract\": {{\n",
        "      \"prompt\": \"Extract the company mission from the page.\"\n",
        "    }}\n",
        "  }}'\n",
        "'''\n",
        "\n",
        "!{curl_command}"
      ]
    },
    {
      "cell_type": "code",
      "source": [
        "# Method 2: Alternative approach using requests library\n",
        "import requests\n",
        "import json\n",
        "\n",
        "url = \"https://api.firecrawl.dev/v1/scrape\"\n",
        "headers = {\n",
        "    \"Content-Type\": \"application/json\",\n",
        "    \"Authorization\": f\"Bearer {api_key}\"\n",
        "}\n",
        "payload = {\n",
        "    \"url\": \"https://docs.firecrawl.dev/\",\n",
        "    \"formats\": [\"extract\"],\n",
        "    \"extract\": {\n",
        "        \"prompt\": \"Extract the company mission from the page.\"\n",
        "    }\n",
        "}\n",
        "\n",
        "response = requests.post(url, headers=headers, json=payload)\n",
        "print(json.dumps(response.json(), indent=2))"
      ],
      "metadata": {
        "colab": {
          "base_uri": "https://localhost:8080/"
        },
        "id": "SJZydfRNT1Sc",
        "outputId": "3aed84ce-26f3-4714-b625-b73944031788"
      },
      "execution_count": 8,
      "outputs": [
        {
          "output_type": "stream",
          "name": "stdout",
          "text": [
            "{\n",
            "  \"success\": true,\n",
            "  \"data\": {\n",
            "    \"extract\": {\n",
            "      \"company_mission\": \"Train a secure AI on your technical resources that answers customer and employee questions so your team doesn't have to\"\n",
            "    },\n",
            "    \"metadata\": {\n",
            "      \"title\": \"Quickstart | Firecrawl\",\n",
            "      \"description\": \"Firecrawl allows you to turn entire websites into LLM-ready markdown\",\n",
            "      \"language\": \"en\",\n",
            "      \"ogLocaleAlternate\": [],\n",
            "      \"viewport\": \"width=device-width\",\n",
            "      \"msapplication-config\": \"https://mintlify.s3-us-west-1.amazonaws.com/firecrawl/_generated/favicon/browserconfig.xml?v=3\",\n",
            "      \"apple-mobile-web-app-title\": \"Firecrawl Docs\",\n",
            "      \"application-name\": \"Firecrawl Docs\",\n",
            "      \"msapplication-TileColor\": \"#000\",\n",
            "      \"theme-color\": \"#ffffff\",\n",
            "      \"charset\": \"utf-8\",\n",
            "      \"og:type\": \"website\",\n",
            "      \"og:site_name\": \"Firecrawl Docs\",\n",
            "      \"twitter:card\": \"summary_large_image\",\n",
            "      \"og:title\": \"Quickstart | Firecrawl\",\n",
            "      \"twitter:title\": \"Firecrawl Docs\",\n",
            "      \"og:image\": \"/images/og.png\",\n",
            "      \"twitter:image\": \"/images/og.png\",\n",
            "      \"og:description\": \"Firecrawl allows you to turn entire websites into LLM-ready markdown\",\n",
            "      \"og:url\": \"https://docs.firecrawl.dev/introduction\",\n",
            "      \"next-head-count\": \"25\",\n",
            "      \"sourceURL\": \"https://docs.firecrawl.dev/\",\n",
            "      \"statusCode\": 200\n",
            "    }\n",
            "  }\n",
            "}\n"
          ]
        }
      ]
    },
    {
      "cell_type": "markdown",
      "metadata": {
        "id": "closing-section"
      },
      "source": [
        "## Next Steps\n",
        "\n",
        "You've now learned how to:\n",
        "1. Set up Firecrawl for data extraction\n",
        "2. Extract data using a defined schema\n",
        "3. Extract data using prompts without a schema\n",
        "\n",
        "For more information about the extract format and additional features, visit the [Firecrawl documentation](https://docs.firecrawl.dev/features/extract)."
      ]
    }
  ],
  "metadata": {
    "kernelspec": {
      "display_name": "Python 3",
      "language": "python",
      "name": "python3"
    },
    "language_info": {
      "codemirror_mode": {
        "name": "ipython",
        "version": 3
      },
      "file_extension": ".py",
      "mimetype": "text/x-python",
      "name": "python",
      "nbconvert_exporter": "python",
      "pygments_lexer": "ipython3",
      "version": "3.8.0"
    },
    "colab": {
      "provenance": [],
      "include_colab_link": true
    }
  },
  "nbformat": 4,
  "nbformat_minor": 0
}